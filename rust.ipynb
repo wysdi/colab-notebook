{
  "nbformat": 4,
  "nbformat_minor": 0,
  "metadata": {
    "colab": {
      "name": "rust.ipynb",
      "provenance": [],
      "include_colab_link": true
    },
    "kernelspec": {
      "name": "rust",
      "display_name": "Rust"
    }
  },
  "cells": [
    {
      "cell_type": "markdown",
      "metadata": {
        "id": "view-in-github",
        "colab_type": "text"
      },
      "source": [
        "<a href=\"https://colab.research.google.com/github/wysdi/colab-notebook/blob/main/rust.ipynb\" target=\"_parent\"><img src=\"https://colab.research.google.com/assets/colab-badge.svg\" alt=\"Open In Colab\"/></a>"
      ]
    },
    {
      "cell_type": "code",
      "metadata": {
        "id": "p--wYZ2QwcgN"
      },
      "source": [
        "# run this once, then reload, and then skip this\n",
        "!apt install rustc\n",
        "!gdown --id 1PULtTc-2e9z4bswh_SQqL5oy_4JpfV7c\n",
        "!chmod +x evcxr_jupyter\n",
        "!./evcxr_jupyter --install"
      ],
      "execution_count": null,
      "outputs": []
    },
    {
      "cell_type": "code",
      "metadata": {
        "id": "w1vDka50zZnA",
        "outputId": "9e3459a1-9b25-4c85-bd46-e8dc4d008fb6",
        "colab": {
          "base_uri": "https://localhost:8080/",
          "height": 34
        }
      },
      "source": [
        "println!(\"Hello, world!\");"
      ],
      "execution_count": null,
      "outputs": [
        {
          "output_type": "stream",
          "text": [
            "Hello, world!\n"
          ],
          "name": "stdout"
        }
      ]
    },
    {
      "cell_type": "code",
      "metadata": {
        "id": "U0WiEMwNSWV6"
      },
      "source": [
        "// install a library for calling shell command\n",
        ":dep cmd_lib\n",
        "use cmd_lib::run_cmd as sh;"
      ],
      "execution_count": null,
      "outputs": []
    },
    {
      "cell_type": "code",
      "metadata": {
        "id": "S8Bn2i_9SrxB",
        "colab": {
          "base_uri": "https://localhost:8080/",
          "height": 156
        },
        "outputId": "c7e0feec-ef55-46f8-f722-2fc9b868fb80"
      },
      "source": [
        "sh!(ls -al)"
      ],
      "execution_count": null,
      "outputs": [
        {
          "output_type": "stream",
          "text": [
            "INFO: Running \"ls -al\" ...\n"
          ],
          "name": "stderr"
        },
        {
          "output_type": "stream",
          "text": [
            "total 4668\n",
            "drwxr-xr-x 1 root root    4096 Apr  5 02:57 .\n",
            "drwxr-xr-x 1 root root    4096 Apr  5 02:53 ..\n",
            "drwxr-xr-x 1 root root    4096 Apr  2 16:11 .config\n",
            "-rwxr-xr-x 1 root root 4762960 Apr  5 02:57 evcxr_jupyter\n",
            "drwxr-xr-x 1 root root    4096 Mar 18 16:23 sample_data\n"
          ],
          "name": "stdout"
        },
        {
          "output_type": "execute_result",
          "data": {
            "text/plain": [
              "Ok(())"
            ]
          },
          "metadata": {
            "tags": []
          },
          "execution_count": 15
        }
      ]
    }
  ]
}